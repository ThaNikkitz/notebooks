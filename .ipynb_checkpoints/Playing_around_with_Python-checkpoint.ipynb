{
 "cells": [
  {
   "cell_type": "markdown",
   "metadata": {},
   "source": [
    "# Getting data from NOAA webpage"
   ]
  },
  {
   "cell_type": "code",
   "execution_count": 1,
   "metadata": {
    "collapsed": false
   },
   "outputs": [
    {
     "name": "stdout",
     "output_type": "stream",
     "text": [
      "--2017-01-04 13:27:28--  https://www.ncdc.noaa.gov/cag/time-series/global/globe/land/all/1/1880-2015.csv\n",
      "Resolviendo www.ncdc.noaa.gov (www.ncdc.noaa.gov)... 205.167.25.172, 205.167.25.171, 2610:20:8040:2::171, ...\n",
      "Conectando con www.ncdc.noaa.gov (www.ncdc.noaa.gov)[205.167.25.172]:443... conectado.\n",
      "Petición HTTP enviada, esperando respuesta... 200 OK\n",
      "Longitud: no especificado [text/plain]\n",
      "Grabando a: “land_global_temperature_anomaly-1880-2015.csv”\n",
      "\n",
      "    [  <=>                                  ] 23.796      67,7KB/s   en 0,3s   \n",
      "\n",
      "2017-01-04 13:27:29 (67,7 KB/s) - “land_global_temperature_anomaly-1880-2015.csv” guardado [23796]\n",
      "\n"
     ]
    }
   ],
   "source": [
    "!wget -O land_global_temperature_anomaly-1880-2015.csv https://www.ncdc.noaa.gov/cag/time-series/global/globe/land/all/1/1880-2015.csv"
   ]
  },
  {
   "cell_type": "code",
   "execution_count": 2,
   "metadata": {
    "collapsed": true
   },
   "outputs": [],
   "source": [
    "import numpy as np"
   ]
  },
  {
   "cell_type": "code",
   "execution_count": 3,
   "metadata": {
    "collapsed": false
   },
   "outputs": [
    {
     "name": "stdout",
     "output_type": "stream",
     "text": [
      "Global Land Temperature Anomalies\r\n",
      "Units: Degrees Celsius\r\n",
      "Base Period: 1901-2000\r\n",
      "Year,Value\r\n",
      "188001,-0.1538\r\n",
      "188002,-0.5771\r\n",
      "188003,-0.7250\r\n",
      "188004,-0.2990\r\n",
      "188005,-0.2098\r\n",
      "188006,-0.3002\r\n"
     ]
    }
   ],
   "source": [
    "!head land_global_temperature_anomaly-1880-2015.csv"
   ]
  },
  {
   "cell_type": "code",
   "execution_count": 7,
   "metadata": {
    "collapsed": false
   },
   "outputs": [
    {
     "data": {
      "text/plain": [
       "array([[  1.88001000e+05,  -1.53800000e-01],\n",
       "       [  1.88002000e+05,  -5.77100000e-01],\n",
       "       [  1.88003000e+05,  -7.25000000e-01],\n",
       "       ..., \n",
       "       [  2.01510000e+05,   1.32120000e+00],\n",
       "       [  2.01511000e+05,   1.28280000e+00],\n",
       "       [  2.01512000e+05,   1.87220000e+00]])"
      ]
     },
     "execution_count": 7,
     "metadata": {},
     "output_type": "execute_result"
    }
   ],
   "source": [
    "Temp_data = np.loadtxt(fname='land_global_temperature_anomaly-1880-2015.csv', delimiter=',', skiprows=4)\n",
    "Temp_data"
   ]
  },
  {
   "cell_type": "code",
   "execution_count": null,
   "metadata": {
    "collapsed": true
   },
   "outputs": [],
   "source": []
  }
 ],
 "metadata": {
  "anaconda-cloud": {},
  "kernelspec": {
   "display_name": "Python [conda root]",
   "language": "python",
   "name": "conda-root-py"
  },
  "language_info": {
   "codemirror_mode": {
    "name": "ipython",
    "version": 3
   },
   "file_extension": ".py",
   "mimetype": "text/x-python",
   "name": "python",
   "nbconvert_exporter": "python",
   "pygments_lexer": "ipython3",
   "version": "3.5.2"
  }
 },
 "nbformat": 4,
 "nbformat_minor": 1
}
